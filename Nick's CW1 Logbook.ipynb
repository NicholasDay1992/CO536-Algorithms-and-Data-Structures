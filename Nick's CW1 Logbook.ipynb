{
 "cells": [
  {
   "cell_type": "markdown",
   "metadata": {},
   "source": [
    "# Nick's Logbook for CW1 - 12345678"
   ]
  },
  {
   "cell_type": "markdown",
   "metadata": {},
   "source": [
    "### <font color=\"red\">Logbook Exercise 4</font> ###\n",
    "\n",
    "Create a 'code' cell below. In this do the following:\n",
    "- Given the following 4 lists of names, house number and street addresses, towns and postcodes ...  \n",
    "\n",
    "```\n",
    "[\"T Cruise\",\"D Francis\",\"C White\"]\n",
    "[\"2 West St\",\"65 Deadend Cls\",\"15 Magdalen Rd\"]\n",
    "[\"Canterbury\", \"Reading\", \"Oxford\"]\n",
    "[\"CT8 23RD\", \"RG4 1FG\", \"OX4 3AS\"]\n",
    "```\n",
    "\n",
    "- write a Custom 'address_machine' function that formats 'name', 'hs_number_street', 'town', 'postcode' with commas and spaces between items\n",
    "- create a 'newlist' that repeatedly calls 'address_machine' and 'zips' items from the 4 lists\n",
    "- write a 'for loop' that iterates over 'new list' and prints each name and address on a separate line\n",
    "- the output should appear as follows\n",
    "\n",
    "```\n",
    "T Cruise, 2 West St, Canterbury, CT8 23RD\n",
    "D Francis, 65 Deadend Cls, Reading, RG4 1FG\n",
    "C White, 15 Magdalen Rd, Oxford, OX4 3AS\n",
    "```\n",
    "\n",
    "- <font color=\"red\">HINT:</font> look at \"# CUSTOM FUNCTION WORKED EXAMPLES 3 & 4\" above"
   ]
  },
  {
   "cell_type": "code",
   "execution_count": null,
   "metadata": {},
   "outputs": [],
   "source": []
  },
  {
   "cell_type": "markdown",
   "metadata": {},
   "source": [
    "## <font color=\"red\">Logbook Exercise 5</font> ##\n",
    "\n",
    "Create a 'code' cell below. In this do the following:\n",
    "- Create a super class \"Person\" that takes three string and one integer parameters for first and second name, UK Postcode and age in years.\n",
    "- Give \"Person\" a method \"greeting\" that prints a statement along the lines \"Hello, my name is Freddy Jones. I am 22 years old and my postcode is HP6 7AJ\"\n",
    "- Create a \"Student\" class that extends/inherits \"Person\" and takes additional parameters for degree_subject and student_ID.\n",
    "- give \"Student\" a \"studentGreeting\" method that prints a statement along the lines \"My student ID is SN123456 and I am reading Computer Science\"\n",
    "- Use either Python {} format or C-type %s/%d notation to format output strings\n",
    "- Create 3 student objects and persist these in a list\n",
    "- Iterate over the three objects and call their \"greeting\" and \"studentGreeting\" methods\n",
    "- Output should be along the lines of the following\n",
    "\n",
    "```\n",
    "Hello, my name is Dick Turpin. I am 32 years old and my postcode is HP11 2JZ\n",
    "My student ID is DT123456 and I am reading Highway Robbery\n",
    " \n",
    "Hello, my name is Dorothy Turpin. I am 32 years old and my postcode is SO14 7AA\n",
    "My student ID is DT123457 and I am reading Law\n",
    " \n",
    "Hello, my name is Oliver Cromwell. I am 32 years old and my postcode is OX35 14RE\n",
    "My student ID is OC123456 and I am reading History\n",
    "```"
   ]
  },
  {
   "cell_type": "code",
   "execution_count": null,
   "metadata": {},
   "outputs": [],
   "source": []
  },
  {
   "cell_type": "markdown",
   "metadata": {
    "slideshow": {
     "slide_type": "slide"
    }
   },
   "source": [
    "## <font color=\"red\">Logbook Exercise 6</font> ##\n",
    "\n",
    "Insert a 'code' cell below. In this do the following:\n",
    "\n",
    "- 1 - Define a Node class and a (singly) LinkedList class.\n",
    "- 2 - Now create five instances (objects) of the Node class and 'add' them to an instance of the LinkedList. Print this data to the screen to check that the node objects have been added correctly from.\n",
    "- 3 - Test the search method. Check that a node can be found (print an appropriate message to the screen). Also check that a message is displayed when you search for a node that is not in the list.  \n",
    "- 4 - Test that you can remove both the start of the list and a node in the middle of the list. Print before and after to check that this works.\n",
    "- 5 - Now add another attribute to the Node class. Remove all the older nodes still remaining in the list, and add new node objects with values for this new attribute. \n",
    "- 6 - Now amend (or overload if necessary) the exisiting search method so that you can search for nodes via either of the two attributes. Test that this works as expected.  \n",
    "- 7 - Notice that you have an 'insert_beginning' function in the LinkedList class, which 'prepends' a new node to the start of the list. Now write an 'insert_end' function that will 'append' a new node to the end of the list. \n",
    "- 8 - now add additional node instances to the list and check that adds them to the end of the list, rather than at the start of the list.\n",
    "- 9 - Implement the updates suggested to modify the singly linked list to be a doubly linked list. Don't forget to update the insert_end method from the previous point! Check that you can navigate back and forth in the doubly linked list.\n",
    "\n",
    "\n"
   ]
  },
  {
   "cell_type": "code",
   "execution_count": null,
   "metadata": {},
   "outputs": [],
   "source": []
  }
 ],
 "metadata": {
  "celltoolbar": "Slideshow",
  "kernelspec": {
   "display_name": "Python 3 (ipykernel)",
   "language": "python",
   "name": "python3"
  },
  "language_info": {
   "codemirror_mode": {
    "name": "ipython",
    "version": 3
   },
   "file_extension": ".py",
   "mimetype": "text/x-python",
   "name": "python",
   "nbconvert_exporter": "python",
   "pygments_lexer": "ipython3",
   "version": "3.10.9"
  },
  "vscode": {
   "interpreter": {
    "hash": "31f2aee4e71d21fbe5cf8b01ff0e069b9275f58929596ceb00d14d90e3e16cd6"
   }
  }
 },
 "nbformat": 4,
 "nbformat_minor": 4
}
